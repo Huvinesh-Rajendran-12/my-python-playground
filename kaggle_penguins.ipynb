{
 "cells": [
  {
   "cell_type": "markdown",
   "id": "f3258746",
   "metadata": {},
   "source": [
    "# Data Analysis and Visualization"
   ]
  },
  {
   "cell_type": "code",
   "execution_count": 1,
   "id": "114ab419",
   "metadata": {},
   "outputs": [
    {
     "name": "stdout",
     "output_type": "stream",
     "text": [
      "Null counts before imputation:\n",
      "shape: (1, 7)\n",
      "┌─────────┬────────┬──────────────────┬─────────────────┬───────────────────┬─────────────┬─────┐\n",
      "│ species ┆ island ┆ culmen_length_mm ┆ culmen_depth_mm ┆ flipper_length_mm ┆ body_mass_g ┆ sex │\n",
      "│ ---     ┆ ---    ┆ ---              ┆ ---             ┆ ---               ┆ ---         ┆ --- │\n",
      "│ u32     ┆ u32    ┆ u32              ┆ u32             ┆ u32               ┆ u32         ┆ u32 │\n",
      "╞═════════╪════════╪══════════════════╪═════════════════╪═══════════════════╪═════════════╪═════╡\n",
      "│ 0       ┆ 0      ┆ 0                ┆ 0               ┆ 0                 ┆ 0           ┆ 0   │\n",
      "└─────────┴────────┴──────────────────┴─────────────────┴───────────────────┴─────────────┴─────┘\n"
     ]
    }
   ],
   "source": [
    "import polars as pl\n",
    "import polars.selectors as cs\n",
    "\n",
    "# Read the CSV file into a Polars DataFrame\n",
    "df = pl.read_csv(\"data/penguins_size.csv\")\n",
    "\n",
    "# Check for null values\n",
    "null_counts = df.null_count()\n",
    "print(\"Null counts before imputation:\")\n",
    "print(null_counts)"
   ]
  },
  {
   "cell_type": "code",
   "execution_count": 2,
   "id": "745b1dd9",
   "metadata": {},
   "outputs": [
    {
     "name": "stdout",
     "output_type": "stream",
     "text": [
      "NA string counts before imputation: {'species': 0, 'island': 0, 'culmen_length_mm': 2, 'culmen_depth_mm': 2, 'flipper_length_mm': 2, 'body_mass_g': 2, 'sex': 10}\n"
     ]
    }
   ],
   "source": [
    "na_string_counts = {col: df.filter(pl.col(col) == \"NA\").shape[0] for col in df.columns}\n",
    "print(\"NA string counts before imputation:\", na_string_counts)"
   ]
  },
  {
   "cell_type": "code",
   "execution_count": 3,
   "id": "baacff30",
   "metadata": {},
   "outputs": [
    {
     "data": {
      "text/html": [
       "<div><style>\n",
       ".dataframe > thead > tr,\n",
       ".dataframe > tbody > tr {\n",
       "  text-align: right;\n",
       "  white-space: pre-wrap;\n",
       "}\n",
       "</style>\n",
       "<small>shape: (2, 7)</small><table border=\"1\" class=\"dataframe\"><thead><tr><th>species</th><th>island</th><th>culmen_length_mm</th><th>culmen_depth_mm</th><th>flipper_length_mm</th><th>body_mass_g</th><th>sex</th></tr><tr><td>str</td><td>str</td><td>str</td><td>str</td><td>str</td><td>str</td><td>str</td></tr></thead><tbody><tr><td>&quot;Adelie&quot;</td><td>&quot;Torgersen&quot;</td><td>&quot;NA&quot;</td><td>&quot;NA&quot;</td><td>&quot;NA&quot;</td><td>&quot;NA&quot;</td><td>&quot;NA&quot;</td></tr><tr><td>&quot;Gentoo&quot;</td><td>&quot;Biscoe&quot;</td><td>&quot;NA&quot;</td><td>&quot;NA&quot;</td><td>&quot;NA&quot;</td><td>&quot;NA&quot;</td><td>&quot;NA&quot;</td></tr></tbody></table></div>"
      ],
      "text/plain": [
       "shape: (2, 7)\n",
       "┌─────────┬───────────┬──────────────────┬─────────────────┬───────────────────┬─────────────┬─────┐\n",
       "│ species ┆ island    ┆ culmen_length_mm ┆ culmen_depth_mm ┆ flipper_length_mm ┆ body_mass_g ┆ sex │\n",
       "│ ---     ┆ ---       ┆ ---              ┆ ---             ┆ ---               ┆ ---         ┆ --- │\n",
       "│ str     ┆ str       ┆ str              ┆ str             ┆ str               ┆ str         ┆ str │\n",
       "╞═════════╪═══════════╪══════════════════╪═════════════════╪═══════════════════╪═════════════╪═════╡\n",
       "│ Adelie  ┆ Torgersen ┆ NA               ┆ NA              ┆ NA                ┆ NA          ┆ NA  │\n",
       "│ Gentoo  ┆ Biscoe    ┆ NA               ┆ NA              ┆ NA                ┆ NA          ┆ NA  │\n",
       "└─────────┴───────────┴──────────────────┴─────────────────┴───────────────────┴─────────────┴─────┘"
      ]
     },
     "execution_count": 3,
     "metadata": {},
     "output_type": "execute_result"
    }
   ],
   "source": [
    "df.filter(pl.col(\"culmen_length_mm\") == \"NA\")"
   ]
  },
  {
   "cell_type": "code",
   "execution_count": 4,
   "id": "586e929c",
   "metadata": {},
   "outputs": [],
   "source": [
    "cleaned_df = df.filter(pl.col(\"culmen_length_mm\") != \"NA\")"
   ]
  },
  {
   "cell_type": "code",
   "execution_count": 5,
   "id": "e84a8b45",
   "metadata": {},
   "outputs": [
    {
     "data": {
      "text/html": [
       "<div><style>\n",
       ".dataframe > thead > tr,\n",
       ".dataframe > tbody > tr {\n",
       "  text-align: right;\n",
       "  white-space: pre-wrap;\n",
       "}\n",
       "</style>\n",
       "<small>shape: (9, 8)</small><table border=\"1\" class=\"dataframe\"><thead><tr><th>statistic</th><th>species</th><th>island</th><th>culmen_length_mm</th><th>culmen_depth_mm</th><th>flipper_length_mm</th><th>body_mass_g</th><th>sex</th></tr><tr><td>str</td><td>str</td><td>str</td><td>str</td><td>str</td><td>str</td><td>str</td><td>str</td></tr></thead><tbody><tr><td>&quot;count&quot;</td><td>&quot;342&quot;</td><td>&quot;342&quot;</td><td>&quot;342&quot;</td><td>&quot;342&quot;</td><td>&quot;342&quot;</td><td>&quot;342&quot;</td><td>&quot;342&quot;</td></tr><tr><td>&quot;null_count&quot;</td><td>&quot;0&quot;</td><td>&quot;0&quot;</td><td>&quot;0&quot;</td><td>&quot;0&quot;</td><td>&quot;0&quot;</td><td>&quot;0&quot;</td><td>&quot;0&quot;</td></tr><tr><td>&quot;mean&quot;</td><td>null</td><td>null</td><td>null</td><td>null</td><td>null</td><td>null</td><td>null</td></tr><tr><td>&quot;std&quot;</td><td>null</td><td>null</td><td>null</td><td>null</td><td>null</td><td>null</td><td>null</td></tr><tr><td>&quot;min&quot;</td><td>&quot;Adelie&quot;</td><td>&quot;Biscoe&quot;</td><td>&quot;32.1&quot;</td><td>&quot;13.1&quot;</td><td>&quot;172&quot;</td><td>&quot;2700&quot;</td><td>&quot;.&quot;</td></tr><tr><td>&quot;25%&quot;</td><td>null</td><td>null</td><td>null</td><td>null</td><td>null</td><td>null</td><td>null</td></tr><tr><td>&quot;50%&quot;</td><td>null</td><td>null</td><td>null</td><td>null</td><td>null</td><td>null</td><td>null</td></tr><tr><td>&quot;75%&quot;</td><td>null</td><td>null</td><td>null</td><td>null</td><td>null</td><td>null</td><td>null</td></tr><tr><td>&quot;max&quot;</td><td>&quot;Gentoo&quot;</td><td>&quot;Torgersen&quot;</td><td>&quot;59.6&quot;</td><td>&quot;21.5&quot;</td><td>&quot;231&quot;</td><td>&quot;6300&quot;</td><td>&quot;NA&quot;</td></tr></tbody></table></div>"
      ],
      "text/plain": [
       "shape: (9, 8)\n",
       "┌────────────┬─────────┬───────────┬──────────────┬─────────────┬─────────────┬─────────────┬──────┐\n",
       "│ statistic  ┆ species ┆ island    ┆ culmen_lengt ┆ culmen_dept ┆ flipper_len ┆ body_mass_g ┆ sex  │\n",
       "│ ---        ┆ ---     ┆ ---       ┆ h_mm         ┆ h_mm        ┆ gth_mm      ┆ ---         ┆ ---  │\n",
       "│ str        ┆ str     ┆ str       ┆ ---          ┆ ---         ┆ ---         ┆ str         ┆ str  │\n",
       "│            ┆         ┆           ┆ str          ┆ str         ┆ str         ┆             ┆      │\n",
       "╞════════════╪═════════╪═══════════╪══════════════╪═════════════╪═════════════╪═════════════╪══════╡\n",
       "│ count      ┆ 342     ┆ 342       ┆ 342          ┆ 342         ┆ 342         ┆ 342         ┆ 342  │\n",
       "│ null_count ┆ 0       ┆ 0         ┆ 0            ┆ 0           ┆ 0           ┆ 0           ┆ 0    │\n",
       "│ mean       ┆ null    ┆ null      ┆ null         ┆ null        ┆ null        ┆ null        ┆ null │\n",
       "│ std        ┆ null    ┆ null      ┆ null         ┆ null        ┆ null        ┆ null        ┆ null │\n",
       "│ min        ┆ Adelie  ┆ Biscoe    ┆ 32.1         ┆ 13.1        ┆ 172         ┆ 2700        ┆ .    │\n",
       "│ 25%        ┆ null    ┆ null      ┆ null         ┆ null        ┆ null        ┆ null        ┆ null │\n",
       "│ 50%        ┆ null    ┆ null      ┆ null         ┆ null        ┆ null        ┆ null        ┆ null │\n",
       "│ 75%        ┆ null    ┆ null      ┆ null         ┆ null        ┆ null        ┆ null        ┆ null │\n",
       "│ max        ┆ Gentoo  ┆ Torgersen ┆ 59.6         ┆ 21.5        ┆ 231         ┆ 6300        ┆ NA   │\n",
       "└────────────┴─────────┴───────────┴──────────────┴─────────────┴─────────────┴─────────────┴──────┘"
      ]
     },
     "execution_count": 5,
     "metadata": {},
     "output_type": "execute_result"
    }
   ],
   "source": [
    "cleaned_df.describe()"
   ]
  },
  {
   "cell_type": "code",
   "execution_count": 6,
   "id": "88bf8134",
   "metadata": {},
   "outputs": [
    {
     "name": "stdout",
     "output_type": "stream",
     "text": [
      "shape: (5, 6)\n",
      "┌─────────┬───────────┬──────────────────┬─────────────────┬───────────────────┬─────────────┐\n",
      "│ species ┆ island    ┆ culmen_length_mm ┆ culmen_depth_mm ┆ flipper_length_mm ┆ body_mass_g │\n",
      "│ ---     ┆ ---       ┆ ---              ┆ ---             ┆ ---               ┆ ---         │\n",
      "│ str     ┆ str       ┆ str              ┆ str             ┆ str               ┆ str         │\n",
      "╞═════════╪═══════════╪══════════════════╪═════════════════╪═══════════════════╪═════════════╡\n",
      "│ Adelie  ┆ Torgersen ┆ 39.1             ┆ 18.7            ┆ 181               ┆ 3750        │\n",
      "│ Adelie  ┆ Torgersen ┆ 39.5             ┆ 17.4            ┆ 186               ┆ 3800        │\n",
      "│ Adelie  ┆ Torgersen ┆ 40.3             ┆ 18              ┆ 195               ┆ 3250        │\n",
      "│ Adelie  ┆ Torgersen ┆ 36.7             ┆ 19.3            ┆ 193               ┆ 3450        │\n",
      "│ Adelie  ┆ Torgersen ┆ 39.3             ┆ 20.6            ┆ 190               ┆ 3650        │\n",
      "└─────────┴───────────┴──────────────────┴─────────────────┴───────────────────┴─────────────┘\n"
     ]
    }
   ],
   "source": [
    "# Remove the 'sex' column\n",
    "cleaned_df = cleaned_df.drop(\"sex\")\n",
    "\n",
    "# Display the first few rows to verify the column removal\n",
    "print(cleaned_df.head())"
   ]
  },
  {
   "cell_type": "code",
   "execution_count": 7,
   "id": "dd734f9b",
   "metadata": {},
   "outputs": [
    {
     "data": {
      "text/html": [
       "<div><style>\n",
       ".dataframe > thead > tr,\n",
       ".dataframe > tbody > tr {\n",
       "  text-align: right;\n",
       "  white-space: pre-wrap;\n",
       "}\n",
       "</style>\n",
       "<small>shape: (3, 1)</small><table border=\"1\" class=\"dataframe\"><thead><tr><th>species</th></tr><tr><td>str</td></tr></thead><tbody><tr><td>&quot;Adelie&quot;</td></tr><tr><td>&quot;Chinstrap&quot;</td></tr><tr><td>&quot;Gentoo&quot;</td></tr></tbody></table></div>"
      ],
      "text/plain": [
       "shape: (3, 1)\n",
       "┌───────────┐\n",
       "│ species   │\n",
       "│ ---       │\n",
       "│ str       │\n",
       "╞═══════════╡\n",
       "│ Adelie    │\n",
       "│ Chinstrap │\n",
       "│ Gentoo    │\n",
       "└───────────┘"
      ]
     },
     "execution_count": 7,
     "metadata": {},
     "output_type": "execute_result"
    }
   ],
   "source": [
    "cleaned_df.select(pl.col(\"species\")).unique()"
   ]
  },
  {
   "cell_type": "code",
   "execution_count": 8,
   "id": "a7b75501",
   "metadata": {},
   "outputs": [],
   "source": [
    "cleaned_df = cleaned_df.with_columns(pl.col(\"species\").cast(pl.Categorical).cast(pl.UInt32).cast(pl.Int32).alias(\"species_encoded\"), pl.col(\"island\").cast(pl.Categorical).cast(pl.UInt32).cast(pl.Int32).alias(\"island_encoded\"), pl.col(\"culmen_length_mm\").cast(pl.Float64), pl.col(\"culmen_depth_mm\").cast(pl.Float64), pl.col(\"flipper_length_mm\").cast(pl.Float64), pl.col(\"body_mass_g\").cast(pl.Float64))"
   ]
  },
  {
   "cell_type": "code",
   "execution_count": 9,
   "id": "2677f187",
   "metadata": {},
   "outputs": [
    {
     "data": {
      "text/html": [
       "<div><style>\n",
       ".dataframe > thead > tr,\n",
       ".dataframe > tbody > tr {\n",
       "  text-align: right;\n",
       "  white-space: pre-wrap;\n",
       "}\n",
       "</style>\n",
       "<small>shape: (5, 8)</small><table border=\"1\" class=\"dataframe\"><thead><tr><th>species</th><th>island</th><th>culmen_length_mm</th><th>culmen_depth_mm</th><th>flipper_length_mm</th><th>body_mass_g</th><th>species_encoded</th><th>island_encoded</th></tr><tr><td>str</td><td>str</td><td>f64</td><td>f64</td><td>f64</td><td>f64</td><td>i32</td><td>i32</td></tr></thead><tbody><tr><td>&quot;Adelie&quot;</td><td>&quot;Torgersen&quot;</td><td>39.1</td><td>18.7</td><td>181.0</td><td>3750.0</td><td>0</td><td>0</td></tr><tr><td>&quot;Adelie&quot;</td><td>&quot;Torgersen&quot;</td><td>39.5</td><td>17.4</td><td>186.0</td><td>3800.0</td><td>0</td><td>0</td></tr><tr><td>&quot;Adelie&quot;</td><td>&quot;Torgersen&quot;</td><td>40.3</td><td>18.0</td><td>195.0</td><td>3250.0</td><td>0</td><td>0</td></tr><tr><td>&quot;Adelie&quot;</td><td>&quot;Torgersen&quot;</td><td>36.7</td><td>19.3</td><td>193.0</td><td>3450.0</td><td>0</td><td>0</td></tr><tr><td>&quot;Adelie&quot;</td><td>&quot;Torgersen&quot;</td><td>39.3</td><td>20.6</td><td>190.0</td><td>3650.0</td><td>0</td><td>0</td></tr></tbody></table></div>"
      ],
      "text/plain": [
       "shape: (5, 8)\n",
       "┌─────────┬───────────┬────────────┬────────────┬────────────┬────────────┬────────────┬───────────┐\n",
       "│ species ┆ island    ┆ culmen_len ┆ culmen_dep ┆ flipper_le ┆ body_mass_ ┆ species_en ┆ island_en │\n",
       "│ ---     ┆ ---       ┆ gth_mm     ┆ th_mm      ┆ ngth_mm    ┆ g          ┆ coded      ┆ coded     │\n",
       "│ str     ┆ str       ┆ ---        ┆ ---        ┆ ---        ┆ ---        ┆ ---        ┆ ---       │\n",
       "│         ┆           ┆ f64        ┆ f64        ┆ f64        ┆ f64        ┆ i32        ┆ i32       │\n",
       "╞═════════╪═══════════╪════════════╪════════════╪════════════╪════════════╪════════════╪═══════════╡\n",
       "│ Adelie  ┆ Torgersen ┆ 39.1       ┆ 18.7       ┆ 181.0      ┆ 3750.0     ┆ 0          ┆ 0         │\n",
       "│ Adelie  ┆ Torgersen ┆ 39.5       ┆ 17.4       ┆ 186.0      ┆ 3800.0     ┆ 0          ┆ 0         │\n",
       "│ Adelie  ┆ Torgersen ┆ 40.3       ┆ 18.0       ┆ 195.0      ┆ 3250.0     ┆ 0          ┆ 0         │\n",
       "│ Adelie  ┆ Torgersen ┆ 36.7       ┆ 19.3       ┆ 193.0      ┆ 3450.0     ┆ 0          ┆ 0         │\n",
       "│ Adelie  ┆ Torgersen ┆ 39.3       ┆ 20.6       ┆ 190.0      ┆ 3650.0     ┆ 0          ┆ 0         │\n",
       "└─────────┴───────────┴────────────┴────────────┴────────────┴────────────┴────────────┴───────────┘"
      ]
     },
     "execution_count": 9,
     "metadata": {},
     "output_type": "execute_result"
    }
   ],
   "source": [
    "cleaned_df.head(5)"
   ]
  },
  {
   "cell_type": "code",
   "execution_count": 10,
   "id": "736068ff",
   "metadata": {},
   "outputs": [
    {
     "data": {
      "text/html": [
       "<div><style>\n",
       ".dataframe > thead > tr,\n",
       ".dataframe > tbody > tr {\n",
       "  text-align: right;\n",
       "  white-space: pre-wrap;\n",
       "}\n",
       "</style>\n",
       "<small>shape: (9, 9)</small><table border=\"1\" class=\"dataframe\"><thead><tr><th>statistic</th><th>species</th><th>island</th><th>culmen_length_mm</th><th>culmen_depth_mm</th><th>flipper_length_mm</th><th>body_mass_g</th><th>species_encoded</th><th>island_encoded</th></tr><tr><td>str</td><td>str</td><td>str</td><td>f64</td><td>f64</td><td>f64</td><td>f64</td><td>f64</td><td>f64</td></tr></thead><tbody><tr><td>&quot;count&quot;</td><td>&quot;342&quot;</td><td>&quot;342&quot;</td><td>342.0</td><td>342.0</td><td>342.0</td><td>342.0</td><td>342.0</td><td>342.0</td></tr><tr><td>&quot;null_count&quot;</td><td>&quot;0&quot;</td><td>&quot;0&quot;</td><td>0.0</td><td>0.0</td><td>0.0</td><td>0.0</td><td>0.0</td><td>0.0</td></tr><tr><td>&quot;mean&quot;</td><td>null</td><td>null</td><td>43.92193</td><td>17.15117</td><td>200.915205</td><td>4201.754386</td><td>0.918129</td><td>1.21345</td></tr><tr><td>&quot;std&quot;</td><td>null</td><td>null</td><td>5.459584</td><td>1.974793</td><td>14.061714</td><td>801.954536</td><td>0.892635</td><td>0.683741</td></tr><tr><td>&quot;min&quot;</td><td>&quot;Adelie&quot;</td><td>&quot;Biscoe&quot;</td><td>32.1</td><td>13.1</td><td>172.0</td><td>2700.0</td><td>0.0</td><td>0.0</td></tr><tr><td>&quot;25%&quot;</td><td>null</td><td>null</td><td>39.2</td><td>15.6</td><td>190.0</td><td>3550.0</td><td>0.0</td><td>1.0</td></tr><tr><td>&quot;50%&quot;</td><td>null</td><td>null</td><td>44.5</td><td>17.3</td><td>197.0</td><td>4050.0</td><td>1.0</td><td>1.0</td></tr><tr><td>&quot;75%&quot;</td><td>null</td><td>null</td><td>48.5</td><td>18.7</td><td>213.0</td><td>4750.0</td><td>2.0</td><td>2.0</td></tr><tr><td>&quot;max&quot;</td><td>&quot;Gentoo&quot;</td><td>&quot;Torgersen&quot;</td><td>59.6</td><td>21.5</td><td>231.0</td><td>6300.0</td><td>2.0</td><td>2.0</td></tr></tbody></table></div>"
      ],
      "text/plain": [
       "shape: (9, 9)\n",
       "┌────────────┬─────────┬───────────┬───────────┬───┬───────────┬───────────┬───────────┬───────────┐\n",
       "│ statistic  ┆ species ┆ island    ┆ culmen_le ┆ … ┆ flipper_l ┆ body_mass ┆ species_e ┆ island_en │\n",
       "│ ---        ┆ ---     ┆ ---       ┆ ngth_mm   ┆   ┆ ength_mm  ┆ _g        ┆ ncoded    ┆ coded     │\n",
       "│ str        ┆ str     ┆ str       ┆ ---       ┆   ┆ ---       ┆ ---       ┆ ---       ┆ ---       │\n",
       "│            ┆         ┆           ┆ f64       ┆   ┆ f64       ┆ f64       ┆ f64       ┆ f64       │\n",
       "╞════════════╪═════════╪═══════════╪═══════════╪═══╪═══════════╪═══════════╪═══════════╪═══════════╡\n",
       "│ count      ┆ 342     ┆ 342       ┆ 342.0     ┆ … ┆ 342.0     ┆ 342.0     ┆ 342.0     ┆ 342.0     │\n",
       "│ null_count ┆ 0       ┆ 0         ┆ 0.0       ┆ … ┆ 0.0       ┆ 0.0       ┆ 0.0       ┆ 0.0       │\n",
       "│ mean       ┆ null    ┆ null      ┆ 43.92193  ┆ … ┆ 200.91520 ┆ 4201.7543 ┆ 0.918129  ┆ 1.21345   │\n",
       "│            ┆         ┆           ┆           ┆   ┆ 5         ┆ 86        ┆           ┆           │\n",
       "│ std        ┆ null    ┆ null      ┆ 5.459584  ┆ … ┆ 14.061714 ┆ 801.95453 ┆ 0.892635  ┆ 0.683741  │\n",
       "│            ┆         ┆           ┆           ┆   ┆           ┆ 6         ┆           ┆           │\n",
       "│ min        ┆ Adelie  ┆ Biscoe    ┆ 32.1      ┆ … ┆ 172.0     ┆ 2700.0    ┆ 0.0       ┆ 0.0       │\n",
       "│ 25%        ┆ null    ┆ null      ┆ 39.2      ┆ … ┆ 190.0     ┆ 3550.0    ┆ 0.0       ┆ 1.0       │\n",
       "│ 50%        ┆ null    ┆ null      ┆ 44.5      ┆ … ┆ 197.0     ┆ 4050.0    ┆ 1.0       ┆ 1.0       │\n",
       "│ 75%        ┆ null    ┆ null      ┆ 48.5      ┆ … ┆ 213.0     ┆ 4750.0    ┆ 2.0       ┆ 2.0       │\n",
       "│ max        ┆ Gentoo  ┆ Torgersen ┆ 59.6      ┆ … ┆ 231.0     ┆ 6300.0    ┆ 2.0       ┆ 2.0       │\n",
       "└────────────┴─────────┴───────────┴───────────┴───┴───────────┴───────────┴───────────┴───────────┘"
      ]
     },
     "execution_count": 10,
     "metadata": {},
     "output_type": "execute_result"
    }
   ],
   "source": [
    "cleaned_df.describe()"
   ]
  },
  {
   "cell_type": "code",
   "execution_count": 11,
   "id": "b51ce5cf",
   "metadata": {},
   "outputs": [
    {
     "data": {
      "text/plain": [
       "['species_Adelie', 'species_Chinstrap', 'species_Gentoo']"
      ]
     },
     "execution_count": 11,
     "metadata": {},
     "output_type": "execute_result"
    }
   ],
   "source": [
    "category_mapping = cleaned_df['species'].to_dummies().columns\n",
    "category_mapping"
   ]
  },
  {
   "cell_type": "code",
   "execution_count": 12,
   "id": "f423b77c",
   "metadata": {},
   "outputs": [
    {
     "data": {
      "text/html": [
       "<div><style>\n",
       ".dataframe > thead > tr,\n",
       ".dataframe > tbody > tr {\n",
       "  text-align: right;\n",
       "  white-space: pre-wrap;\n",
       "}\n",
       "</style>\n",
       "<small>shape: (4, 4)</small><table border=\"1\" class=\"dataframe\"><thead><tr><th>culmen_length_mm</th><th>culmen_depth_mm</th><th>flipper_length_mm</th><th>body_mass_g</th></tr><tr><td>f64</td><td>f64</td><td>f64</td><td>f64</td></tr></thead><tbody><tr><td>1.0</td><td>-0.235053</td><td>0.656181</td><td>0.59511</td></tr><tr><td>-0.235053</td><td>1.0</td><td>-0.583851</td><td>-0.471916</td></tr><tr><td>0.656181</td><td>-0.583851</td><td>1.0</td><td>0.871202</td></tr><tr><td>0.59511</td><td>-0.471916</td><td>0.871202</td><td>1.0</td></tr></tbody></table></div>"
      ],
      "text/plain": [
       "shape: (4, 4)\n",
       "┌──────────────────┬─────────────────┬───────────────────┬─────────────┐\n",
       "│ culmen_length_mm ┆ culmen_depth_mm ┆ flipper_length_mm ┆ body_mass_g │\n",
       "│ ---              ┆ ---             ┆ ---               ┆ ---         │\n",
       "│ f64              ┆ f64             ┆ f64               ┆ f64         │\n",
       "╞══════════════════╪═════════════════╪═══════════════════╪═════════════╡\n",
       "│ 1.0              ┆ -0.235053       ┆ 0.656181          ┆ 0.59511     │\n",
       "│ -0.235053        ┆ 1.0             ┆ -0.583851         ┆ -0.471916   │\n",
       "│ 0.656181         ┆ -0.583851       ┆ 1.0               ┆ 0.871202    │\n",
       "│ 0.59511          ┆ -0.471916       ┆ 0.871202          ┆ 1.0         │\n",
       "└──────────────────┴─────────────────┴───────────────────┴─────────────┘"
      ]
     },
     "execution_count": 12,
     "metadata": {},
     "output_type": "execute_result"
    }
   ],
   "source": [
    "# Select numerical columns for correlation analysis\n",
    "numerical_cols = cleaned_df.select(cs.numeric().exclude(['species_encoded', 'island_encoded'])).columns\n",
    "\n",
    "# Calculate the correlation matrix\n",
    "correlation_matrix = cleaned_df.select(numerical_cols).corr()# Convert Polars DataFrame to Pandas DataFrame for seaborn compatibility\n",
    "correlation_matrix "
   ]
  },
  {
   "cell_type": "code",
   "execution_count": null,
   "id": "e48a62cc",
   "metadata": {},
   "outputs": [],
   "source": []
  },
  {
   "cell_type": "code",
   "execution_count": 13,
   "id": "dd1c6ae1",
   "metadata": {},
   "outputs": [],
   "source": [
    "from sklearn.model_selection import train_test_split\n",
    "from sklearn.preprocessing import StandardScaler\n",
    "\n",
    "# Split the data into features (X) and target (y)\n",
    "X = cleaned_df.select([\n",
    "    \"culmen_length_mm\", \n",
    "    \"culmen_depth_mm\", \n",
    "    \"flipper_length_mm\", \n",
    "    \"body_mass_g\"\n",
    "]).to_numpy()\n",
    "y = cleaned_df.select('species_encoded').to_numpy().flatten()\n",
    "\n",
    "\n",
    "# Add this before train/test split\n",
    "scaler = StandardScaler()\n",
    "X_scaled = scaler.fit_transform(X)\n",
    "\n",
    "# Then use X_scaled in your train/test split\n",
    "X_train, X_test, y_train, y_test = train_test_split(X_scaled, y, test_size=0.2, random_state=42)\n",
    "X_train, X_val, y_train, y_val = train_test_split(X_train, y_train, test_size=0.25, random_state=42)"
   ]
  },
  {
   "cell_type": "code",
   "execution_count": 14,
   "id": "65fe685e",
   "metadata": {},
   "outputs": [
    {
     "data": {
      "text/plain": [
       "array([[-9.39528498e-01,  2.47630774e-02, -1.48956593e+00,\n",
       "        -5.01703051e-01],\n",
       "       [ 6.19647927e-01, -1.69945886e+00,  1.07432835e+00,\n",
       "         6.53418930e-01],\n",
       "       [-1.50816931e+00, -7.66617426e-02, -8.48592365e-01,\n",
       "        -1.06365429e+00],\n",
       "       [-4.25917440e-01,  4.30462357e-01, -6.34934508e-01,\n",
       "        -3.14385973e-01],\n",
       "       [-9.76215002e-01, -7.66617426e-02, -9.19811650e-01,\n",
       "        -1.62560552e+00],\n",
       "       [-1.10461777e+00,  7.34736817e-01, -5.63715222e-01,\n",
       "        -1.59438601e+00],\n",
       "       [ 4.54558659e-01, -7.86635483e-01,  1.43042477e+00,\n",
       "         9.96833573e-01],\n",
       "       [-1.12296102e+00,  7.54754874e-02, -1.48956593e+00,\n",
       "        -6.26581103e-01],\n",
       "       [ 1.48178077e+00,  9.37586457e-01, -2.78838080e-01,\n",
       "        -6.46298690e-02],\n",
       "       [ 1.18828874e+00, -9.38772713e-01,  1.64408263e+00,\n",
       "         1.68366286e+00],\n",
       "       [ 6.19647927e-01, -9.38772713e-01,  1.50164406e+00,\n",
       "         1.30902870e+00],\n",
       "       [ 7.11364187e-01, -1.09090994e+00,  1.00310906e+00,\n",
       "         1.80854091e+00],\n",
       "       [ 6.93020935e-01, -1.09090994e+00,  1.07432835e+00,\n",
       "         6.84638443e-01],\n",
       "       [ 9.31483212e-01,  1.19114851e+00,  6.47012632e-01,\n",
       "        -3.14385973e-01],\n",
       "       [ 8.21423700e-01, -1.29375958e+00,  8.60670489e-01,\n",
       "         2.05829702e+00],\n",
       "       [ 2.19716760e+00, -7.66617426e-02,  1.92895977e+00,\n",
       "         1.74610189e+00],\n",
       "       [-1.06793126e+00,  2.27612717e-01, -9.91030936e-01,\n",
       "        -9.69995746e-01],\n",
       "       [ 1.28000500e+00,  3.79749947e-01, -3.50057366e-01,\n",
       "        -6.57800616e-01],\n",
       "       [ 1.11491573e+00, -6.34498253e-01,  1.64408263e+00,\n",
       "         1.43390676e+00],\n",
       "       [-5.17633701e-01,  2.27612717e-01, -1.34712736e+00,\n",
       "        -1.25097136e+00],\n",
       "       [-6.64379717e-01,  4.30462357e-01, -4.21276651e-01,\n",
       "        -1.18853234e+00],\n",
       "       [-1.70994508e+00,  2.00254707e+00, -2.07618795e-01,\n",
       "         2.47565261e-01],\n",
       "       [-1.63657208e+00,  3.79749947e-01, -6.34934508e-01,\n",
       "        -5.95361590e-01],\n",
       "       [-1.03124476e+00,  1.03901128e+00, -8.48592365e-01,\n",
       "        -3.14385973e-01],\n",
       "       [-2.79171424e-01,  7.54754874e-02, -1.41834665e+00,\n",
       "        -7.51459155e-01],\n",
       "       [-1.06793126e+00,  7.34736817e-01, -7.77373079e-01,\n",
       "        -6.26581103e-01],\n",
       "       [-6.27693213e-01,  3.79749947e-01, -9.91030936e-01,\n",
       "        -1.25097136e+00],\n",
       "       [ 2.52782886e-01, -1.75017127e+00,  6.47012632e-01,\n",
       "         1.22687209e-01],\n",
       "       [-1.26970704e+00, -3.30223793e-01, -1.13346951e+00,\n",
       "        -1.00121526e+00],\n",
       "       [-4.62603945e-01,  6.84024407e-01,  7.72583478e-02,\n",
       "        -4.08044512e-01],\n",
       "       [-1.50768660e-01,  1.03901128e+00, -2.78838080e-01,\n",
       "        -8.76337207e-01],\n",
       "       [ 7.84737196e-01, -1.44589681e+00,  6.47012632e-01,\n",
       "         4.97321365e-01],\n",
       "       [ 3.26638611e-02,  4.30462357e-01,  6.47012632e-01,\n",
       "        -2.51946947e-01],\n",
       "       [ 1.06036869e-01, -1.44589681e+00,  1.07432835e+00,\n",
       "        -1.27068895e-01],\n",
       "       [ 2.71126138e-01, -1.29375958e+00,  7.18231918e-01,\n",
       "         7.47077469e-01],\n",
       "       [-5.91006709e-01, -7.66617426e-02, -7.77373079e-01,\n",
       "        -5.95361590e-01],\n",
       "       [-3.15857928e-01,  6.84024407e-01, -1.48956593e+00,\n",
       "        -8.13898181e-01],\n",
       "       [ 1.26166175e+00,  9.37586457e-01,  6.47012632e-01,\n",
       "        -1.27068895e-01],\n",
       "       [-1.15964752e+00,  1.08972369e+00, -1.41834665e+00,\n",
       "        -1.12609331e+00],\n",
       "       [-9.02841994e-01, -2.59493326e-02, -7.06153794e-01,\n",
       "        -1.43828844e+00],\n",
       "       [-1.70994508e+00,  2.47630774e-02, -8.48592365e-01,\n",
       "        -1.25097136e+00],\n",
       "       [ 1.75692956e+00,  1.39399815e+00,  2.90916205e-01,\n",
       "         3.72443313e-01],\n",
       "       [-1.52651256e+00,  1.76900307e-01, -7.06153794e-01,\n",
       "        -1.28219088e+00],\n",
       "       [-5.17633701e-01,  1.76900307e-01, -7.77373079e-01,\n",
       "        -3.76824999e-01],\n",
       "       [-1.06793126e+00, -7.66617426e-02, -1.41834665e+00,\n",
       "        -1.28219088e+00],\n",
       "       [ 5.27931667e-01, -5.33073433e-01,  1.00310906e+00,\n",
       "         1.62122383e+00],\n",
       "       [ 1.57349703e+00, -7.86635483e-01,  1.43042477e+00,\n",
       "         1.55878481e+00],\n",
       "       [ 2.34439634e-01, -3.80936203e-01,  1.57286334e+00,\n",
       "         2.18317507e+00],\n",
       "       [ 2.89469390e-01, -1.75017127e+00,  9.31889775e-01,\n",
       "         5.59760391e-01],\n",
       "       [-1.45313956e+00,  6.84024407e-01, -1.06225022e+00,\n",
       "        -1.37584942e+00],\n",
       "       [-1.15964752e+00, -7.66617426e-02, -1.13346951e+00,\n",
       "        -7.51459155e-01],\n",
       "       [ 3.81185650e-01,  8.86874047e-01, -4.21276651e-01,\n",
       "        -6.46298690e-02],\n",
       "       [-7.92782482e-01,  4.81174767e-01, -1.06225022e+00,\n",
       "         3.10004287e-01],\n",
       "       [-2.16852639e+00, -8.37347893e-01, -9.19811650e-01,\n",
       "        -1.43828844e+00],\n",
       "       [-7.73956512e-02, -1.49660922e+00,  1.35920549e+00,\n",
       "         6.22199417e-01],\n",
       "       [ 1.97753130e-01, -8.88060303e-01,  1.35920549e+00,\n",
       "         1.05927260e+00],\n",
       "       [-2.97514676e-01,  2.05325948e+00, -7.06153794e-01,\n",
       "        -6.46298690e-02],\n",
       "       [ 4.17872154e-01, -1.54732163e+00,  1.14554763e+00,\n",
       "         2.16345748e-01],\n",
       "       [ 3.81185650e-01,  2.20539671e+00, -4.92495937e-01,\n",
       "        -2.19084302e-03],\n",
       "       [ 8.76453456e-01, -1.04019753e+00,  1.50164406e+00,\n",
       "         1.43390676e+00],\n",
       "       [ 3.99528902e-01, -1.04019753e+00,  1.00310906e+00,\n",
       "         1.12171163e+00],\n",
       "       [ 1.26166175e+00,  6.84024407e-01,  6.03906223e-03,\n",
       "         3.10004287e-01],\n",
       "       [ 4.54558659e-01, -1.09090994e+00,  1.07432835e+00,\n",
       "         6.22199417e-01],\n",
       "       [ 1.06036869e-01, -7.35923073e-01,  1.14554763e+00,\n",
       "         8.40736008e-01],\n",
       "       [ 7.84737196e-01, -7.86635483e-01,  1.43042477e+00,\n",
       "         1.12171163e+00],\n",
       "       [ 1.31669151e+00, -3.30223793e-01,  1.71530192e+00,\n",
       "         1.30902870e+00],\n",
       "       [-1.15964752e+00,  9.88298867e-01, -4.92495937e-01,\n",
       "        -5.64142077e-01],\n",
       "       [-5.54320205e-01,  8.86874047e-01, -1.20468879e+00,\n",
       "        -3.76824999e-01],\n",
       "       [-1.50816931e+00, -1.27374153e-01, -1.13346951e+00,\n",
       "        -1.31341039e+00],\n",
       "       [-1.72828834e+00,  4.81174767e-01, -9.91030936e-01,\n",
       "        -1.62560552e+00],\n",
       "       [-4.44260693e-01,  6.84024407e-01,  6.03906223e-03,\n",
       "        -2.51946947e-01],\n",
       "       [-7.74439230e-01,  6.33311997e-01, -7.77373079e-01,\n",
       "        -3.76824999e-01],\n",
       "       [ 1.46343752e+00,  1.19114851e+00,  3.62135490e-01,\n",
       "        -3.14385973e-01],\n",
       "       [ 1.09657248e+00, -5.33073433e-01,  8.60670489e-01,\n",
       "         1.49634578e+00],\n",
       "       [ 9.68169716e-01,  5.31887177e-01, -4.21276651e-01,\n",
       "         2.47565261e-01],\n",
       "       [-5.17633701e-01,  5.31887177e-01, -6.34934508e-01,\n",
       "        -1.89507921e-01],\n",
       "       [-2.24141668e-01,  5.82599587e-01, -3.50057366e-01,\n",
       "        -1.58288408e-01],\n",
       "       [ 4.72901911e-01, -1.39518440e+00,  1.14554763e+00,\n",
       "         8.71955521e-01],\n",
       "       [ 4.72901911e-01, -1.85159609e+00,  6.47012632e-01,\n",
       "         4.34882339e-01],\n",
       "       [ 2.16096382e-01, -1.34447199e+00,  4.33354776e-01,\n",
       "         1.05927260e+00],\n",
       "       [ 2.34439634e-01, -1.69945886e+00,  1.00310906e+00,\n",
       "         6.84638443e-01],\n",
       "       [-3.15857928e-01,  1.19114851e+00, -2.78838080e-01,\n",
       "         9.14676960e-02],\n",
       "       [ 5.27931667e-01, -8.88060303e-01,  1.00310906e+00,\n",
       "         1.18415065e+00],\n",
       "       [ 3.62842398e-01, -2.59493326e-02, -7.77373079e-01,\n",
       "        -7.82678668e-01],\n",
       "       [ 1.24331850e+00,  1.29257333e+00,  1.48477633e-01,\n",
       "        -1.89507921e-01],\n",
       "       [-7.74439230e-01,  3.79749947e-01, -5.63715222e-01,\n",
       "         6.02481830e-02],\n",
       "       [ 2.34439634e-01, -2.79511383e-01, -7.06153794e-01,\n",
       "        -1.18853234e+00],\n",
       "       [-1.14130427e+00, -5.83785843e-01, -1.27590808e+00,\n",
       "        -1.40706893e+00],\n",
       "       [-7.92782482e-01,  2.47630774e-02, -3.50057366e-01,\n",
       "        -8.13898181e-01],\n",
       "       [ 4.72901911e-01, -1.34447199e+00,  8.60670489e-01,\n",
       "         2.47565261e-01],\n",
       "       [-1.12296102e+00,  5.82599587e-01, -1.91688165e+00,\n",
       "        -1.00121526e+00],\n",
       "       [-1.45313956e+00,  3.79749947e-01, -7.77373079e-01,\n",
       "        -9.38776233e-01],\n",
       "       [ 1.26166175e+00,  7.54754874e-02,  1.92895977e+00,\n",
       "         1.74610189e+00],\n",
       "       [-1.21467728e+00,  3.29037537e-01, -7.06153794e-01,\n",
       "        -1.06365429e+00],\n",
       "       [-6.09349961e-01,  2.47630774e-02, -9.91030936e-01,\n",
       "        -9.07556720e-01],\n",
       "       [ 1.51846728e+00, -2.59493326e-02,  1.92895977e+00,\n",
       "         1.49634578e+00],\n",
       "       [-8.84498742e-01,  7.85449227e-01, -1.41834665e+00,\n",
       "        -5.64142077e-01],\n",
       "       [ 1.15160224e+00,  7.85449227e-01, -2.07618795e-01,\n",
       "        -5.32922564e-01],\n",
       "       [ 2.34439634e-01, -1.19233476e+00,  7.89451204e-01,\n",
       "         1.24658968e+00],\n",
       "       [-9.76215002e-01,  2.05325948e+00, -7.06153794e-01,\n",
       "        -5.01703051e-01],\n",
       "       [ 2.58237590e+00,  3.29037537e-01, -1.41834665e+00,\n",
       "        -6.26581103e-01],\n",
       "       [ 6.56334431e-01, -1.78086563e-01, -1.36399509e-01,\n",
       "        -3.76824999e-01],\n",
       "       [ 1.29834825e+00,  8.36161637e-01,  1.48477633e-01,\n",
       "        -1.27068895e-01],\n",
       "       [ 1.07822923e+00, -6.34498253e-01,  2.00017906e+00,\n",
       "         2.18317507e+00],\n",
       "       [-8.11125734e-01,  1.26187897e-01, -1.06225022e+00,\n",
       "        -5.01703051e-01],\n",
       "       [-1.98509387e+00, -5.33073433e-01, -1.63200451e+00,\n",
       "        -1.62560552e+00],\n",
       "       [-2.60828172e-01,  7.54754874e-02, -9.91030936e-01,\n",
       "        -1.06365429e+00],\n",
       "       [ 1.62852679e+00,  1.44471056e+00,  2.90916205e-01,\n",
       "         4.34882339e-01],\n",
       "       [-9.57871750e-01,  9.37586457e-01, -4.21276651e-01,\n",
       "        -9.38776233e-01],\n",
       "       [ 1.48178077e+00,  1.79969743e+00,  6.47012632e-01,\n",
       "         7.47077469e-01],\n",
       "       [-6.82722969e-01,  1.49542297e+00, -6.51802234e-02,\n",
       "        -2.83166460e-01],\n",
       "       [ 1.61018354e+00,  1.34328574e+00, -2.78838080e-01,\n",
       "        -5.95361590e-01],\n",
       "       [ 1.07822923e+00, -1.78086563e-01,  2.07139834e+00,\n",
       "         1.87097994e+00],\n",
       "       [-1.50816931e+00,  4.30462357e-01,  7.72583478e-02,\n",
       "        -8.13898181e-01],\n",
       "       [ 2.16096382e-01, -1.34447199e+00,  1.00310906e+00,\n",
       "         9.96833573e-01],\n",
       "       [ 4.54558659e-01,  7.34736817e-01, -7.77373079e-01,\n",
       "        -9.38776233e-01],\n",
       "       [-1.26970704e+00, -1.27374153e-01, -1.13346951e+00,\n",
       "        -1.50072747e+00],\n",
       "       [-1.34308004e+00,  6.33311997e-01, -1.20468879e+00,\n",
       "        -9.07556720e-01],\n",
       "       [-1.14082155e-01, -1.59803404e+00,  5.04574061e-01,\n",
       "         4.66101852e-01],\n",
       "       [ 5.46274919e-01, -2.79511383e-01, -6.34934508e-01,\n",
       "        -1.87536162e+00],\n",
       "       [ 8.76453456e-01, -1.54732163e+00,  6.47012632e-01,\n",
       "         3.10004287e-01],\n",
       "       [-7.56095978e-01,  9.88298867e-01, -1.20468879e+00,\n",
       "         5.59760391e-01],\n",
       "       [-7.92782482e-01,  2.78325127e-01, -1.06225022e+00,\n",
       "        -8.76337207e-01],\n",
       "       [-1.87455164e-01, -2.05444573e+00,  1.00310906e+00,\n",
       "         9.96833573e-01],\n",
       "       [-8.47812238e-01,  1.74898502e+00, -7.77373079e-01,\n",
       "        -6.89020129e-01],\n",
       "       [-1.17799078e+00,  6.84024407e-01, -1.36399509e-01,\n",
       "         3.41223800e-01],\n",
       "       [ 1.13325898e+00, -1.09090994e+00,  1.71530192e+00,\n",
       "         9.96833573e-01],\n",
       "       [ 1.42675102e+00,  1.59684779e+00, -4.92495937e-01,\n",
       "        -5.32922564e-01],\n",
       "       [-5.72663457e-01,  6.33311997e-01, -4.21276651e-01,\n",
       "        -3.76824999e-01],\n",
       "       [ 1.39006451e+00, -4.31648613e-01,  2.07139834e+00,\n",
       "         1.62122383e+00],\n",
       "       [ 6.56334431e-01, -1.09090994e+00,  1.21676692e+00,\n",
       "         9.34394547e-01],\n",
       "       [-6.09349961e-01,  8.36161637e-01, -5.63715222e-01,\n",
       "        -5.01703051e-01],\n",
       "       [ 8.76936173e-02,  7.54754874e-02,  1.28798620e+00,\n",
       "         1.30902870e+00],\n",
       "       [-1.80166135e+00,  4.81174767e-01, -5.63715222e-01,\n",
       "        -9.07556720e-01],\n",
       "       [-8.66155490e-01,  2.00254707e+00, -3.50057366e-01,\n",
       "        -6.46298690e-02],\n",
       "       [ 1.20663199e+00, -9.89485123e-01,  1.07432835e+00,\n",
       "         9.96833573e-01],\n",
       "       [-1.23302053e+00,  4.81174767e-01, -1.63200451e+00,\n",
       "        -3.76824999e-01],\n",
       "       [ 1.35337801e+00, -1.49660922e+00,  1.21676692e+00,\n",
       "         1.37146773e+00],\n",
       "       [-9.39528498e-01,  2.27612717e-01, -7.06153794e-01,\n",
       "        -1.15731282e+00],\n",
       "       [ 9.68169716e-01, -9.89485123e-01,  1.43042477e+00,\n",
       "         2.62024825e+00],\n",
       "       [-8.11125734e-01,  3.29037537e-01, -9.19811650e-01,\n",
       "        -1.12609331e+00],\n",
       "       [-4.62603945e-01,  7.34736817e-01, -7.06153794e-01,\n",
       "        -6.26581103e-01],\n",
       "       [ 9.49826464e-01, -1.09090994e+00,  1.92895977e+00,\n",
       "         1.62122383e+00],\n",
       "       [ 3.26155894e-01, -7.66617426e-02, -4.21276651e-01,\n",
       "        -6.89020129e-01],\n",
       "       [-1.34308004e+00,  3.29037537e-01, -1.13346951e+00,\n",
       "        -6.26581103e-01],\n",
       "       [ 6.74677683e-01,  5.82599587e-01, -4.21276651e-01,\n",
       "        -4.39264025e-01],\n",
       "       [-1.14082155e-01, -1.90230850e+00,  5.75793347e-01,\n",
       "         2.47565261e-01],\n",
       "       [ 1.16994549e+00,  1.44471056e+00, -2.78838080e-01,\n",
       "        -1.12609331e+00],\n",
       "       [-1.28805029e+00,  7.34736817e-01, -8.48592365e-01,\n",
       "        -8.76337207e-01],\n",
       "       [ 1.11491573e+00, -9.38772713e-01,  1.35920549e+00,\n",
       "         1.68366286e+00],\n",
       "       [ 6.37991179e-01, -1.29375958e+00,  7.89451204e-01,\n",
       "         6.53418930e-01],\n",
       "       [ 6.01304675e-01, -8.37347893e-01,  1.00310906e+00,\n",
       "         9.65614060e-01],\n",
       "       [ 3.07812642e-01,  1.14043610e+00, -4.92495937e-01,\n",
       "        -8.45117694e-01],\n",
       "       [-5.72663457e-01,  8.86874047e-01,  5.04574061e-01,\n",
       "         1.22687209e-01],\n",
       "       [ 5.64618171e-01,  7.54754874e-02, -1.13346951e+00,\n",
       "        -6.26581103e-01],\n",
       "       [-1.47148281e+00,  1.03901128e+00, -8.48592365e-01,\n",
       "        -5.01703051e-01],\n",
       "       [ 1.26166175e+00, -7.35923073e-01,  1.78652120e+00,\n",
       "         1.24658968e+00],\n",
       "       [-1.58154232e+00,  8.86874047e-01, -9.91030936e-01,\n",
       "        -5.01703051e-01],\n",
       "       [-5.35976953e-01,  1.44471056e+00,  1.48477633e-01,\n",
       "         6.53418930e-01],\n",
       "       [-3.89230936e-01,  1.14043610e+00, -2.07618795e-01,\n",
       "         3.10004287e-01],\n",
       "       [-1.14130427e+00,  7.85449227e-01, -1.48956593e+00,\n",
       "        -7.51459155e-01],\n",
       "       [-1.39810980e+00,  1.19114851e+00, -7.77373079e-01,\n",
       "        -5.01703051e-01],\n",
       "       [ 7.66393944e-01, -1.04019753e+00,  5.75793347e-01,\n",
       "         1.62122383e+00],\n",
       "       [-3.52544432e-01,  1.19114851e+00, -6.51802234e-02,\n",
       "        -1.89507921e-01],\n",
       "       [ 4.72901911e-01,  3.79749947e-01, -6.34934508e-01,\n",
       "        -8.76337207e-01],\n",
       "       [ 1.11491573e+00, -9.89485123e-01,  1.21676692e+00,\n",
       "         1.87097994e+00],\n",
       "       [ 3.99528902e-01, -2.00373332e+00,  7.18231918e-01,\n",
       "         3.72443313e-01],\n",
       "       [ 9.31483212e-01,  1.24186092e+00,  7.89451204e-01,\n",
       "         1.22687209e-01],\n",
       "       [-1.04958801e+00,  4.81174767e-01, -1.13346951e+00,\n",
       "        -3.14385973e-01],\n",
       "       [-7.01066221e-01,  8.86874047e-01, -9.19811650e-01,\n",
       "         1.22687209e-01],\n",
       "       [-1.32425407e-01,  6.84024407e-01, -6.34934508e-01,\n",
       "        -1.27068895e-01],\n",
       "       [ 1.22497525e+00,  1.14043610e+00, -5.63715222e-01,\n",
       "        -5.01703051e-01],\n",
       "       [ 9.31483212e-01, -5.33073433e-01,  1.07432835e+00,\n",
       "         1.68366286e+00],\n",
       "       [ 1.90367557e+00, -7.35923073e-01,  2.14261763e+00,\n",
       "         1.80854091e+00],\n",
       "       [ 5.27931667e-01, -3.30223793e-01, -8.48592365e-01,\n",
       "        -6.89020129e-01],\n",
       "       [-1.10461777e+00,  7.34736817e-01, -2.05932022e+00,\n",
       "        -1.31341039e+00],\n",
       "       [-9.76215002e-01,  2.47630774e-02, -1.36399509e-01,\n",
       "        -5.64142077e-01],\n",
       "       [ 8.58110204e-01, -5.83785843e-01,  2.07139834e+00,\n",
       "         1.99585799e+00],\n",
       "       [-1.32473679e+00,  8.36161637e-01, -9.91030936e-01,\n",
       "        -5.01703051e-01],\n",
       "       [-2.24141668e-01, -1.75017127e+00,  5.04574061e-01,\n",
       "        -3.14385973e-01],\n",
       "       [-1.41645305e+00,  7.54754874e-02, -9.91030936e-01,\n",
       "        -1.12609331e+00],\n",
       "       [ 1.04154272e+00, -5.83785843e-01,  1.71530192e+00,\n",
       "         1.87097994e+00],\n",
       "       [ 8.94796708e-01, -4.82361023e-01,  1.50164406e+00,\n",
       "         2.24561409e+00],\n",
       "       [ 1.35337801e+00,  1.39399815e+00, -2.07618795e-01,\n",
       "        -6.26581103e-01],\n",
       "       [ 9.49826464e-01, -1.19233476e+00,  1.35920549e+00,\n",
       "         1.18415065e+00],\n",
       "       [ 9.49826464e-01, -1.34447199e+00,  7.89451204e-01,\n",
       "         5.28540878e-01],\n",
       "       [ 1.04154272e+00,  5.31887177e-01, -5.63715222e-01,\n",
       "        -5.32922564e-01],\n",
       "       [ 4.17872154e-01, -1.39518440e+00,  9.31889775e-01,\n",
       "         5.59760391e-01],\n",
       "       [ 4.72901911e-01, -1.19233476e+00,  1.14554763e+00,\n",
       "         1.24658968e+00],\n",
       "       [ 1.50012403e+00, -7.66617426e-02,  2.07139834e+00,\n",
       "         1.68366286e+00],\n",
       "       [ 1.02319947e+00,  9.37586457e-01, -6.51802234e-02,\n",
       "        -5.01703051e-01],\n",
       "       [-7.92782482e-01,  8.36161637e-01, -7.77373079e-01,\n",
       "         4.97321365e-01],\n",
       "       [-1.59988557e+00, -6.34498253e-01, -1.06225022e+00,\n",
       "        -1.43828844e+00],\n",
       "       [ 2.52782886e-01, -1.69945886e+00,  5.04574061e-01,\n",
       "        -2.19084302e-03],\n",
       "       [ 1.35337801e+00,  5.31887177e-01, -2.78838080e-01,\n",
       "        -5.64142077e-01],\n",
       "       [ 4.91245163e-01,  3.29037537e-01, -5.63715222e-01,\n",
       "        -5.01703051e-01],\n",
       "       [-8.11125734e-01, -2.28798973e-01, -1.63200451e+00,\n",
       "        -1.18853234e+00],\n",
       "       [-1.12296102e+00,  1.44471056e+00, -7.77373079e-01,\n",
       "         6.02481830e-02],\n",
       "       [ 9.86512968e-01,  1.39399815e+00,  1.48477633e-01,\n",
       "        -1.89507921e-01],\n",
       "       [ 3.26155894e-01, -1.64874645e+00,  9.31889775e-01,\n",
       "         2.47565261e-01],\n",
       "       [-5.54320205e-01, -2.79511383e-01, -9.91030936e-01,\n",
       "        -1.25097136e+00],\n",
       "       [ 1.48178077e+00,  4.81174767e-01,  6.03906223e-03,\n",
       "        -1.89507921e-01],\n",
       "       [-1.04958801e+00,  1.44471056e+00, -7.77373079e-01,\n",
       "        -3.76824999e-01],\n",
       "       [ 1.00485622e+00, -6.85210663e-01,  1.07432835e+00,\n",
       "         9.03175034e-01]])"
      ]
     },
     "execution_count": 14,
     "metadata": {},
     "output_type": "execute_result"
    }
   ],
   "source": [
    "X_train"
   ]
  },
  {
   "cell_type": "markdown",
   "id": "c426c0bd",
   "metadata": {},
   "source": [
    "# Multi-class Classification Model"
   ]
  },
  {
   "cell_type": "code",
   "execution_count": 15,
   "id": "2c4bf596",
   "metadata": {},
   "outputs": [],
   "source": [
    "import os \n",
    "os.environ[\"KERAS_BACKEND\"] = \"jax\"\n",
    "import keras"
   ]
  },
  {
   "cell_type": "code",
   "execution_count": 16,
   "id": "a126808f",
   "metadata": {},
   "outputs": [
    {
     "data": {
      "text/plain": [
       "'jax'"
      ]
     },
     "execution_count": 16,
     "metadata": {},
     "output_type": "execute_result"
    }
   ],
   "source": [
    "keras.backend.backend()"
   ]
  },
  {
   "cell_type": "code",
   "execution_count": 41,
   "id": "c0d5a88a",
   "metadata": {},
   "outputs": [],
   "source": [
    "def penguin_species_model(input_shape) -> keras.Model:\n",
    "    inputs = keras.Input(shape=input_shape)\n",
    "    x = keras.layers.Dense(64, activation=\"relu\")(inputs)\n",
    "    # x = keras.layers.BatchNormalization()(x)\n",
    "    x = keras.layers.Dropout(0.3)(x)\n",
    "    x = keras.layers.Dense(64, activation=\"relu\")(x)\n",
    "    # x = keras.layers.BatchNormalization()(x)\n",
    "    x = keras.layers.Dropout(0.3)(x)\n",
    "    outputs = keras.layers.Dense(3, activation=\"softmax\")(x)\n",
    "    model = keras.Model(inputs=inputs, outputs=outputs)\n",
    "    return model"
   ]
  },
  {
   "cell_type": "code",
   "execution_count": 42,
   "id": "c4c95445",
   "metadata": {},
   "outputs": [],
   "source": [
    "model = penguin_species_model(X_train.shape[1:])"
   ]
  },
  {
   "cell_type": "code",
   "execution_count": 43,
   "id": "fe221bf6",
   "metadata": {},
   "outputs": [
    {
     "data": {
      "text/html": [
       "<pre style=\"white-space:pre;overflow-x:auto;line-height:normal;font-family:Menlo,'DejaVu Sans Mono',consolas,'Courier New',monospace\"><span style=\"font-weight: bold\">Model: \"functional_4\"</span>\n",
       "</pre>\n"
      ],
      "text/plain": [
       "\u001b[1mModel: \"functional_4\"\u001b[0m\n"
      ]
     },
     "metadata": {},
     "output_type": "display_data"
    },
    {
     "data": {
      "text/html": [
       "<pre style=\"white-space:pre;overflow-x:auto;line-height:normal;font-family:Menlo,'DejaVu Sans Mono',consolas,'Courier New',monospace\">┏━━━━━━━━━━━━━━━━━━━━━━━━━━━━━━━━━┳━━━━━━━━━━━━━━━━━━━━━━━━┳━━━━━━━━━━━━━━━┓\n",
       "┃<span style=\"font-weight: bold\"> Layer (type)                    </span>┃<span style=\"font-weight: bold\"> Output Shape           </span>┃<span style=\"font-weight: bold\">       Param # </span>┃\n",
       "┡━━━━━━━━━━━━━━━━━━━━━━━━━━━━━━━━━╇━━━━━━━━━━━━━━━━━━━━━━━━╇━━━━━━━━━━━━━━━┩\n",
       "│ input_layer_4 (<span style=\"color: #0087ff; text-decoration-color: #0087ff\">InputLayer</span>)      │ (<span style=\"color: #00d7ff; text-decoration-color: #00d7ff\">None</span>, <span style=\"color: #00af00; text-decoration-color: #00af00\">4</span>)              │             <span style=\"color: #00af00; text-decoration-color: #00af00\">0</span> │\n",
       "├─────────────────────────────────┼────────────────────────┼───────────────┤\n",
       "│ dense_12 (<span style=\"color: #0087ff; text-decoration-color: #0087ff\">Dense</span>)                │ (<span style=\"color: #00d7ff; text-decoration-color: #00d7ff\">None</span>, <span style=\"color: #00af00; text-decoration-color: #00af00\">64</span>)             │           <span style=\"color: #00af00; text-decoration-color: #00af00\">320</span> │\n",
       "├─────────────────────────────────┼────────────────────────┼───────────────┤\n",
       "│ dropout_4 (<span style=\"color: #0087ff; text-decoration-color: #0087ff\">Dropout</span>)             │ (<span style=\"color: #00d7ff; text-decoration-color: #00d7ff\">None</span>, <span style=\"color: #00af00; text-decoration-color: #00af00\">64</span>)             │             <span style=\"color: #00af00; text-decoration-color: #00af00\">0</span> │\n",
       "├─────────────────────────────────┼────────────────────────┼───────────────┤\n",
       "│ dense_13 (<span style=\"color: #0087ff; text-decoration-color: #0087ff\">Dense</span>)                │ (<span style=\"color: #00d7ff; text-decoration-color: #00d7ff\">None</span>, <span style=\"color: #00af00; text-decoration-color: #00af00\">64</span>)             │         <span style=\"color: #00af00; text-decoration-color: #00af00\">4,160</span> │\n",
       "├─────────────────────────────────┼────────────────────────┼───────────────┤\n",
       "│ dropout_5 (<span style=\"color: #0087ff; text-decoration-color: #0087ff\">Dropout</span>)             │ (<span style=\"color: #00d7ff; text-decoration-color: #00d7ff\">None</span>, <span style=\"color: #00af00; text-decoration-color: #00af00\">64</span>)             │             <span style=\"color: #00af00; text-decoration-color: #00af00\">0</span> │\n",
       "├─────────────────────────────────┼────────────────────────┼───────────────┤\n",
       "│ dense_14 (<span style=\"color: #0087ff; text-decoration-color: #0087ff\">Dense</span>)                │ (<span style=\"color: #00d7ff; text-decoration-color: #00d7ff\">None</span>, <span style=\"color: #00af00; text-decoration-color: #00af00\">3</span>)              │           <span style=\"color: #00af00; text-decoration-color: #00af00\">195</span> │\n",
       "└─────────────────────────────────┴────────────────────────┴───────────────┘\n",
       "</pre>\n"
      ],
      "text/plain": [
       "┏━━━━━━━━━━━━━━━━━━━━━━━━━━━━━━━━━┳━━━━━━━━━━━━━━━━━━━━━━━━┳━━━━━━━━━━━━━━━┓\n",
       "┃\u001b[1m \u001b[0m\u001b[1mLayer (type)                   \u001b[0m\u001b[1m \u001b[0m┃\u001b[1m \u001b[0m\u001b[1mOutput Shape          \u001b[0m\u001b[1m \u001b[0m┃\u001b[1m \u001b[0m\u001b[1m      Param #\u001b[0m\u001b[1m \u001b[0m┃\n",
       "┡━━━━━━━━━━━━━━━━━━━━━━━━━━━━━━━━━╇━━━━━━━━━━━━━━━━━━━━━━━━╇━━━━━━━━━━━━━━━┩\n",
       "│ input_layer_4 (\u001b[38;5;33mInputLayer\u001b[0m)      │ (\u001b[38;5;45mNone\u001b[0m, \u001b[38;5;34m4\u001b[0m)              │             \u001b[38;5;34m0\u001b[0m │\n",
       "├─────────────────────────────────┼────────────────────────┼───────────────┤\n",
       "│ dense_12 (\u001b[38;5;33mDense\u001b[0m)                │ (\u001b[38;5;45mNone\u001b[0m, \u001b[38;5;34m64\u001b[0m)             │           \u001b[38;5;34m320\u001b[0m │\n",
       "├─────────────────────────────────┼────────────────────────┼───────────────┤\n",
       "│ dropout_4 (\u001b[38;5;33mDropout\u001b[0m)             │ (\u001b[38;5;45mNone\u001b[0m, \u001b[38;5;34m64\u001b[0m)             │             \u001b[38;5;34m0\u001b[0m │\n",
       "├─────────────────────────────────┼────────────────────────┼───────────────┤\n",
       "│ dense_13 (\u001b[38;5;33mDense\u001b[0m)                │ (\u001b[38;5;45mNone\u001b[0m, \u001b[38;5;34m64\u001b[0m)             │         \u001b[38;5;34m4,160\u001b[0m │\n",
       "├─────────────────────────────────┼────────────────────────┼───────────────┤\n",
       "│ dropout_5 (\u001b[38;5;33mDropout\u001b[0m)             │ (\u001b[38;5;45mNone\u001b[0m, \u001b[38;5;34m64\u001b[0m)             │             \u001b[38;5;34m0\u001b[0m │\n",
       "├─────────────────────────────────┼────────────────────────┼───────────────┤\n",
       "│ dense_14 (\u001b[38;5;33mDense\u001b[0m)                │ (\u001b[38;5;45mNone\u001b[0m, \u001b[38;5;34m3\u001b[0m)              │           \u001b[38;5;34m195\u001b[0m │\n",
       "└─────────────────────────────────┴────────────────────────┴───────────────┘\n"
      ]
     },
     "metadata": {},
     "output_type": "display_data"
    },
    {
     "data": {
      "text/html": [
       "<pre style=\"white-space:pre;overflow-x:auto;line-height:normal;font-family:Menlo,'DejaVu Sans Mono',consolas,'Courier New',monospace\"><span style=\"font-weight: bold\"> Total params: </span><span style=\"color: #00af00; text-decoration-color: #00af00\">4,675</span> (18.26 KB)\n",
       "</pre>\n"
      ],
      "text/plain": [
       "\u001b[1m Total params: \u001b[0m\u001b[38;5;34m4,675\u001b[0m (18.26 KB)\n"
      ]
     },
     "metadata": {},
     "output_type": "display_data"
    },
    {
     "data": {
      "text/html": [
       "<pre style=\"white-space:pre;overflow-x:auto;line-height:normal;font-family:Menlo,'DejaVu Sans Mono',consolas,'Courier New',monospace\"><span style=\"font-weight: bold\"> Trainable params: </span><span style=\"color: #00af00; text-decoration-color: #00af00\">4,675</span> (18.26 KB)\n",
       "</pre>\n"
      ],
      "text/plain": [
       "\u001b[1m Trainable params: \u001b[0m\u001b[38;5;34m4,675\u001b[0m (18.26 KB)\n"
      ]
     },
     "metadata": {},
     "output_type": "display_data"
    },
    {
     "data": {
      "text/html": [
       "<pre style=\"white-space:pre;overflow-x:auto;line-height:normal;font-family:Menlo,'DejaVu Sans Mono',consolas,'Courier New',monospace\"><span style=\"font-weight: bold\"> Non-trainable params: </span><span style=\"color: #00af00; text-decoration-color: #00af00\">0</span> (0.00 B)\n",
       "</pre>\n"
      ],
      "text/plain": [
       "\u001b[1m Non-trainable params: \u001b[0m\u001b[38;5;34m0\u001b[0m (0.00 B)\n"
      ]
     },
     "metadata": {},
     "output_type": "display_data"
    }
   ],
   "source": [
    "model.summary()"
   ]
  },
  {
   "cell_type": "code",
   "execution_count": 44,
   "id": "a49d2efd",
   "metadata": {},
   "outputs": [],
   "source": [
    "model.compile(\n",
    "    optimizer=keras.optimizers.Adam(learning_rate=0.01),\n",
    "    loss=keras.losses.SparseCategoricalCrossentropy(),\n",
    "    metrics=[keras.metrics.SparseCategoricalAccuracy()],\n",
    ")"
   ]
  },
  {
   "cell_type": "code",
   "execution_count": 45,
   "id": "538a7762",
   "metadata": {},
   "outputs": [
    {
     "name": "stdout",
     "output_type": "stream",
     "text": [
      "Epoch 1/100\n",
      "\u001b[1m7/7\u001b[0m \u001b[32m━━━━━━━━━━━━━━━━━━━━\u001b[0m\u001b[37m\u001b[0m \u001b[1m1s\u001b[0m 135ms/step - loss: 0.8417 - sparse_categorical_accuracy: 0.5950 - val_loss: 0.2262 - val_sparse_categorical_accuracy: 0.9275\n",
      "Epoch 2/100\n",
      "\u001b[1m7/7\u001b[0m \u001b[32m━━━━━━━━━━━━━━━━━━━━\u001b[0m\u001b[37m\u001b[0m \u001b[1m0s\u001b[0m 831us/step - loss: 0.2216 - sparse_categorical_accuracy: 0.9377 - val_loss: 0.0705 - val_sparse_categorical_accuracy: 0.9710\n",
      "Epoch 3/100\n",
      "\u001b[1m7/7\u001b[0m \u001b[32m━━━━━━━━━━━━━━━━━━━━\u001b[0m\u001b[37m\u001b[0m \u001b[1m0s\u001b[0m 692us/step - loss: 0.1099 - sparse_categorical_accuracy: 0.9621 - val_loss: 0.0244 - val_sparse_categorical_accuracy: 0.9855\n",
      "Epoch 4/100\n",
      "\u001b[1m7/7\u001b[0m \u001b[32m━━━━━━━━━━━━━━━━━━━━\u001b[0m\u001b[37m\u001b[0m \u001b[1m0s\u001b[0m 697us/step - loss: 0.0362 - sparse_categorical_accuracy: 0.9858 - val_loss: 0.0238 - val_sparse_categorical_accuracy: 0.9855\n",
      "Epoch 5/100\n",
      "\u001b[1m7/7\u001b[0m \u001b[32m━━━━━━━━━━━━━━━━━━━━\u001b[0m\u001b[37m\u001b[0m \u001b[1m0s\u001b[0m 673us/step - loss: 0.0564 - sparse_categorical_accuracy: 0.9856 - val_loss: 0.0241 - val_sparse_categorical_accuracy: 0.9855\n",
      "Epoch 6/100\n",
      "\u001b[1m7/7\u001b[0m \u001b[32m━━━━━━━━━━━━━━━━━━━━\u001b[0m\u001b[37m\u001b[0m \u001b[1m0s\u001b[0m 709us/step - loss: 0.0816 - sparse_categorical_accuracy: 0.9531 - val_loss: 0.0231 - val_sparse_categorical_accuracy: 0.9855\n",
      "Epoch 7/100\n",
      "\u001b[1m7/7\u001b[0m \u001b[32m━━━━━━━━━━━━━━━━━━━━\u001b[0m\u001b[37m\u001b[0m \u001b[1m0s\u001b[0m 662us/step - loss: 0.0526 - sparse_categorical_accuracy: 0.9833 - val_loss: 0.0493 - val_sparse_categorical_accuracy: 0.9855\n",
      "Epoch 8/100\n",
      "\u001b[1m7/7\u001b[0m \u001b[32m━━━━━━━━━━━━━━━━━━━━\u001b[0m\u001b[37m\u001b[0m \u001b[1m0s\u001b[0m 690us/step - loss: 0.0307 - sparse_categorical_accuracy: 0.9876 - val_loss: 0.0117 - val_sparse_categorical_accuracy: 1.0000\n",
      "Epoch 9/100\n",
      "\u001b[1m7/7\u001b[0m \u001b[32m━━━━━━━━━━━━━━━━━━━━\u001b[0m\u001b[37m\u001b[0m \u001b[1m0s\u001b[0m 640us/step - loss: 0.0446 - sparse_categorical_accuracy: 0.9810 - val_loss: 0.0109 - val_sparse_categorical_accuracy: 1.0000\n",
      "Epoch 10/100\n",
      "\u001b[1m7/7\u001b[0m \u001b[32m━━━━━━━━━━━━━━━━━━━━\u001b[0m\u001b[37m\u001b[0m \u001b[1m0s\u001b[0m 608us/step - loss: 0.0247 - sparse_categorical_accuracy: 1.0000 - val_loss: 0.0195 - val_sparse_categorical_accuracy: 0.9855\n",
      "Epoch 11/100\n",
      "\u001b[1m7/7\u001b[0m \u001b[32m━━━━━━━━━━━━━━━━━━━━\u001b[0m\u001b[37m\u001b[0m \u001b[1m0s\u001b[0m 586us/step - loss: 0.0201 - sparse_categorical_accuracy: 0.9873 - val_loss: 0.0237 - val_sparse_categorical_accuracy: 0.9855\n",
      "Epoch 12/100\n",
      "\u001b[1m7/7\u001b[0m \u001b[32m━━━━━━━━━━━━━━━━━━━━\u001b[0m\u001b[37m\u001b[0m \u001b[1m0s\u001b[0m 636us/step - loss: 0.0511 - sparse_categorical_accuracy: 0.9747 - val_loss: 0.0074 - val_sparse_categorical_accuracy: 1.0000\n",
      "Epoch 13/100\n",
      "\u001b[1m7/7\u001b[0m \u001b[32m━━━━━━━━━━━━━━━━━━━━\u001b[0m\u001b[37m\u001b[0m \u001b[1m0s\u001b[0m 644us/step - loss: 0.0144 - sparse_categorical_accuracy: 1.0000 - val_loss: 0.0082 - val_sparse_categorical_accuracy: 1.0000\n",
      "Epoch 14/100\n",
      "\u001b[1m7/7\u001b[0m \u001b[32m━━━━━━━━━━━━━━━━━━━━\u001b[0m\u001b[37m\u001b[0m \u001b[1m0s\u001b[0m 665us/step - loss: 0.0369 - sparse_categorical_accuracy: 0.9757 - val_loss: 0.0106 - val_sparse_categorical_accuracy: 1.0000\n",
      "Epoch 15/100\n",
      "\u001b[1m7/7\u001b[0m \u001b[32m━━━━━━━━━━━━━━━━━━━━\u001b[0m\u001b[37m\u001b[0m \u001b[1m0s\u001b[0m 663us/step - loss: 0.0163 - sparse_categorical_accuracy: 1.0000 - val_loss: 0.0135 - val_sparse_categorical_accuracy: 0.9855\n",
      "Epoch 16/100\n",
      "\u001b[1m7/7\u001b[0m \u001b[32m━━━━━━━━━━━━━━━━━━━━\u001b[0m\u001b[37m\u001b[0m \u001b[1m0s\u001b[0m 600us/step - loss: 0.0282 - sparse_categorical_accuracy: 0.9892 - val_loss: 0.0076 - val_sparse_categorical_accuracy: 1.0000\n",
      "Epoch 17/100\n",
      "\u001b[1m7/7\u001b[0m \u001b[32m━━━━━━━━━━━━━━━━━━━━\u001b[0m\u001b[37m\u001b[0m \u001b[1m0s\u001b[0m 656us/step - loss: 0.0092 - sparse_categorical_accuracy: 0.9988 - val_loss: 0.0054 - val_sparse_categorical_accuracy: 1.0000\n",
      "Epoch 18/100\n",
      "\u001b[1m7/7\u001b[0m \u001b[32m━━━━━━━━━━━━━━━━━━━━\u001b[0m\u001b[37m\u001b[0m \u001b[1m0s\u001b[0m 655us/step - loss: 0.0245 - sparse_categorical_accuracy: 0.9839 - val_loss: 0.0080 - val_sparse_categorical_accuracy: 1.0000\n",
      "Epoch 19/100\n",
      "\u001b[1m7/7\u001b[0m \u001b[32m━━━━━━━━━━━━━━━━━━━━\u001b[0m\u001b[37m\u001b[0m \u001b[1m0s\u001b[0m 595us/step - loss: 0.0256 - sparse_categorical_accuracy: 0.9865 - val_loss: 0.0219 - val_sparse_categorical_accuracy: 0.9855\n",
      "Epoch 20/100\n",
      "\u001b[1m7/7\u001b[0m \u001b[32m━━━━━━━━━━━━━━━━━━━━\u001b[0m\u001b[37m\u001b[0m \u001b[1m0s\u001b[0m 571us/step - loss: 0.0118 - sparse_categorical_accuracy: 1.0000 - val_loss: 0.0229 - val_sparse_categorical_accuracy: 0.9855\n",
      "Epoch 21/100\n",
      "\u001b[1m7/7\u001b[0m \u001b[32m━━━━━━━━━━━━━━━━━━━━\u001b[0m\u001b[37m\u001b[0m \u001b[1m0s\u001b[0m 638us/step - loss: 0.0374 - sparse_categorical_accuracy: 0.9837 - val_loss: 0.0124 - val_sparse_categorical_accuracy: 0.9855\n",
      "Epoch 22/100\n",
      "\u001b[1m7/7\u001b[0m \u001b[32m━━━━━━━━━━━━━━━━━━━━\u001b[0m\u001b[37m\u001b[0m \u001b[1m0s\u001b[0m 722us/step - loss: 0.0277 - sparse_categorical_accuracy: 0.9823 - val_loss: 0.0102 - val_sparse_categorical_accuracy: 1.0000\n",
      "Epoch 23/100\n",
      "\u001b[1m7/7\u001b[0m \u001b[32m━━━━━━━━━━━━━━━━━━━━\u001b[0m\u001b[37m\u001b[0m \u001b[1m0s\u001b[0m 649us/step - loss: 0.0093 - sparse_categorical_accuracy: 0.9931 - val_loss: 0.0072 - val_sparse_categorical_accuracy: 1.0000\n",
      "Epoch 24/100\n",
      "\u001b[1m7/7\u001b[0m \u001b[32m━━━━━━━━━━━━━━━━━━━━\u001b[0m\u001b[37m\u001b[0m \u001b[1m0s\u001b[0m 649us/step - loss: 0.0076 - sparse_categorical_accuracy: 0.9951 - val_loss: 0.0156 - val_sparse_categorical_accuracy: 0.9855\n",
      "Epoch 25/100\n",
      "\u001b[1m7/7\u001b[0m \u001b[32m━━━━━━━━━━━━━━━━━━━━\u001b[0m\u001b[37m\u001b[0m \u001b[1m0s\u001b[0m 567us/step - loss: 0.0196 - sparse_categorical_accuracy: 0.9914 - val_loss: 0.0105 - val_sparse_categorical_accuracy: 1.0000\n",
      "Epoch 26/100\n",
      "\u001b[1m7/7\u001b[0m \u001b[32m━━━━━━━━━━━━━━━━━━━━\u001b[0m\u001b[37m\u001b[0m \u001b[1m0s\u001b[0m 775us/step - loss: 0.0140 - sparse_categorical_accuracy: 0.9944 - val_loss: 0.0145 - val_sparse_categorical_accuracy: 0.9855\n",
      "Epoch 27/100\n",
      "\u001b[1m7/7\u001b[0m \u001b[32m━━━━━━━━━━━━━━━━━━━━\u001b[0m\u001b[37m\u001b[0m \u001b[1m0s\u001b[0m 557us/step - loss: 0.0120 - sparse_categorical_accuracy: 0.9951 - val_loss: 0.0279 - val_sparse_categorical_accuracy: 0.9855\n"
     ]
    }
   ],
   "source": [
    "hist = model.fit(\n",
    "    X_train,\n",
    "    y_train,\n",
    "    batch_size=32,\n",
    "    epochs=100,\n",
    "    validation_data=(X_val, y_val),\n",
    "    callbacks=[keras.callbacks.EarlyStopping(patience=10, restore_best_weights=True)],\n",
    ")"
   ]
  },
  {
   "cell_type": "code",
   "execution_count": 46,
   "id": "4cd71040",
   "metadata": {},
   "outputs": [
    {
     "data": {
      "image/png": "[encoded data removed]",
      "text/plain": [
       "<Figure size 1200x400 with 2 Axes>"
      ]
     },
     "metadata": {},
     "output_type": "display_data"
    }
   ],
   "source": [
    "# Evaluate on test set\n",
    "\n",
    "# Plot training history\n",
    "import matplotlib.pyplot as plt\n",
    "\n",
    "plt.figure(figsize=(12, 4))\n",
    "plt.subplot(1, 2, 1)\n",
    "plt.plot(hist.history['loss'], label='Training Loss')\n",
    "plt.plot(hist.history['val_loss'], label='Validation Loss')\n",
    "plt.legend()\n",
    "plt.title('Loss')\n",
    "\n",
    "plt.subplot(1, 2, 2)\n",
    "plt.plot(hist.history['sparse_categorical_accuracy'], label='Training Accuracy')\n",
    "plt.plot(hist.history['val_sparse_categorical_accuracy'], label='Validation Accuracy')\n",
    "plt.legend()\n",
    "plt.title('Accuracy')\n",
    "plt.show()"
   ]
  }
 ],
 "metadata": {
  "kernelspec": {
   "display_name": ".venv",
   "language": "python",
   "name": "python3"
  },
  "language_info": {
   "codemirror_mode": {
    "name": "ipython",
    "version": 3
   },
   "file_extension": ".py",
   "mimetype": "text/x-python",
   "name": "python",
   "nbconvert_exporter": "python",
   "pygments_lexer": "ipython3",
   "version": "3.12.9"
  }
 },
 "nbformat": 4,
 "nbformat_minor": 5
}
